{
 "cells": [
  {
   "cell_type": "markdown",
   "id": "21a432a7-8554-47e3-a703-8716a8608d61",
   "metadata": {},
   "source": [
    "#BMI Categories\n",
    "\n",
    "BMI            Category\n",
    "\n",
    "<16.0          Severely Underweight\n",
    "16.0 - 18.4    Underweight\n",
    "18.5 - 24.9    Normal\n",
    "25.0 - 29.9    Overweight\n",
    "30.0 - 34.9    Moderately Obese\n",
    "35.0 - 39.9    Severely Obese\n",
    ">=40.0         Morbidly Obese"
   ]
  },
  {
   "cell_type": "code",
   "execution_count": 8,
   "id": "51c9a070-f3d6-4f95-8651-7bbcb3eb43e7",
   "metadata": {},
   "outputs": [
    {
     "name": "stdout",
     "output_type": "stream",
     "text": [
      "WHO Adult BMI Categories\n"
     ]
    },
    {
     "name": "stdin",
     "output_type": "stream",
     "text": [
      "Enter your BMI Index 17.0\n"
     ]
    },
    {
     "ename": "TypeError",
     "evalue": "'float' object cannot be interpreted as an integer",
     "output_type": "error",
     "traceback": [
      "\u001b[1;31m---------------------------------------------------------------------------\u001b[0m",
      "\u001b[1;31mTypeError\u001b[0m                                 Traceback (most recent call last)",
      "Cell \u001b[1;32mIn[8], line 5\u001b[0m\n\u001b[0;32m      3\u001b[0m \u001b[38;5;28;01mif\u001b[39;00m(BMI\u001b[38;5;241m<\u001b[39m\u001b[38;5;241m16.0\u001b[39m):\n\u001b[0;32m      4\u001b[0m     \u001b[38;5;28mprint\u001b[39m(\u001b[38;5;124m\"\u001b[39m\u001b[38;5;124mSeverely Underweight\u001b[39m\u001b[38;5;124m\"\u001b[39m)\n\u001b[1;32m----> 5\u001b[0m \u001b[38;5;28;01melif\u001b[39;00m(\u001b[38;5;28mrange\u001b[39m(\u001b[38;5;241m16.0\u001b[39m,\u001b[38;5;241m18.4\u001b[39m)):\n\u001b[0;32m      6\u001b[0m     \u001b[38;5;28mprint\u001b[39m(\u001b[38;5;124m\"\u001b[39m\u001b[38;5;124mUnderweight\u001b[39m\u001b[38;5;124m\"\u001b[39m)\n\u001b[0;32m      7\u001b[0m \u001b[38;5;28;01melif\u001b[39;00m(\u001b[38;5;28mrange\u001b[39m(\u001b[38;5;241m18.5\u001b[39m,\u001b[38;5;241m24.9\u001b[39m)):\n",
      "\u001b[1;31mTypeError\u001b[0m: 'float' object cannot be interpreted as an integer"
     ]
    }
   ],
   "source": [
    "print(\"WHO Adult BMI Categories\")\n",
    "BMI=float(input(\"Enter your BMI Index\"))\n",
    "if(BMI<16.0):\n",
    "    print(\"Severely Underweight\")\n",
    "elif(range(16.0,18.4)):\n",
    "    print(\"Underweight\")\n",
    "elif(range(18.5,24.9)):\n",
    "    print(\"Normal\")\n",
    "elif(range(25.0,29.9)):\n",
    "    print(\"Overweight\")\n",
    "elif(range(30.0,34.9)):\n",
    "    print(\"Moderately Obese\")\n",
    "elif(range(35.0,39.9)): \n",
    "    print(\"Severely Obese\")\n",
    "else:\n",
    "    print(\"Morbidly Obese\")\n",
    "        \n",
    "        "
   ]
  },
  {
   "cell_type": "code",
   "execution_count": null,
   "id": "2894e92a-d925-49d1-b6c9-b5f7a2b03d9c",
   "metadata": {},
   "outputs": [],
   "source": []
  }
 ],
 "metadata": {
  "kernelspec": {
   "display_name": "Python 3 (ipykernel)",
   "language": "python",
   "name": "python3"
  },
  "language_info": {
   "codemirror_mode": {
    "name": "ipython",
    "version": 3
   },
   "file_extension": ".py",
   "mimetype": "text/x-python",
   "name": "python",
   "nbconvert_exporter": "python",
   "pygments_lexer": "ipython3",
   "version": "3.12.4"
  }
 },
 "nbformat": 4,
 "nbformat_minor": 5
}
