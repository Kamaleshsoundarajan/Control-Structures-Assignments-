{
 "cells": [
  {
   "cell_type": "code",
   "execution_count": null,
   "id": "0dfd13fe-49d3-4646-99e3-eb5039ea35ef",
   "metadata": {},
   "outputs": [
    {
     "name": "stdout",
     "output_type": "stream",
     "text": [
      "WHO Adult BMI Categories\n"
     ]
    }
   ],
   "source": [
    "# Corrected version\n",
    "\n",
    "\n",
    "print(\"WHO Adult BMI Categories\")\n",
    "BMI=float(input(\"Enter your BMI Index:\"))\n",
    "if(BMI<16.0):\n",
    "    print(\"Severely Underweight\")\n",
    "elif(16.0<BMI<18.4):\n",
    "    print(\"Underweight\")\n",
    "elif(18.5<BMI<24.9):\n",
    "    print(\"Normal\")\n",
    "elif(25.0<BMI<29.9):\n",
    "    print(\"Overweight\")\n",
    "elif(30.0<BMI<34.9):\n",
    "    print(\"Moderately Obese\")\n",
    "elif(35.0<BMI<39.9):\n",
    "    print(\"Severely Obese\")\n",
    "else:\n",
    "    print(\"Morbidly Obese\")"
   ]
  },
  {
   "cell_type": "code",
   "execution_count": null,
   "id": "b500e8f2-4c10-4f21-8482-42454938140c",
   "metadata": {},
   "outputs": [],
   "source": []
  }
 ],
 "metadata": {
  "kernelspec": {
   "display_name": "Python 3 (ipykernel)",
   "language": "python",
   "name": "python3"
  },
  "language_info": {
   "codemirror_mode": {
    "name": "ipython",
    "version": 3
   },
   "file_extension": ".py",
   "mimetype": "text/x-python",
   "name": "python",
   "nbconvert_exporter": "python",
   "pygments_lexer": "ipython3",
   "version": "3.12.4"
  }
 },
 "nbformat": 4,
 "nbformat_minor": 5
}
