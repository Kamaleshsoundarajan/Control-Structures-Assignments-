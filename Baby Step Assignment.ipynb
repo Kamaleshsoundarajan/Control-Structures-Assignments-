{
 "cells": [
  {
   "cell_type": "markdown",
   "id": "274a5451-db14-4573-ba1d-f7bdf6d45b95",
   "metadata": {},
   "source": [
    "print the following satement:\n",
    "\n",
    "Welcome to Assignment-1\n"
   ]
  },
  {
   "cell_type": "code",
   "execution_count": 1,
   "id": "719ef000-bce3-4b63-8ffe-b5361eb75e71",
   "metadata": {},
   "outputs": [
    {
     "name": "stdout",
     "output_type": "stream",
     "text": [
      "Welcome to Assignment-1\n"
     ]
    }
   ],
   "source": [
    "print(\"Welcome to Assignment-1\") \n"
   ]
  },
  {
   "cell_type": "code",
   "execution_count": null,
   "id": "d2cfa46e-a561-41e3-a382-fbd8173135d9",
   "metadata": {},
   "outputs": [],
   "source": [
    "Addition calculation\n",
    "\n",
    "Num1= 10\n",
    "Num2= 30\n",
    "Add= 40\n"
   ]
  },
  {
   "cell_type": "code",
   "execution_count": 5,
   "id": "3460b40d-0897-49fd-b89e-52b2da3530c1",
   "metadata": {},
   "outputs": [
    {
     "name": "stdout",
     "output_type": "stream",
     "text": [
      "Add\n",
      "40\n"
     ]
    }
   ],
   "source": [
    "Num1= 10\n",
    "Num2= 30\n",
    "Add=Num1+Num2 #Addition operation is performed & the values is stored in Add variable\n",
    "print(\"Add\")\n",
    "print(Add) #prints the added value stored in the variable \n"
   ]
  },
  {
   "cell_type": "markdown",
   "id": "b75d10fe-eae8-4d69-b72b-5656140dfceb",
   "metadata": {},
   "source": [
    "Expected output:\n",
    "\n",
    "Enter the BMI Index:34\n",
    "Very Overweight"
   ]
  },
  {
   "cell_type": "code",
   "execution_count": 7,
   "id": "49c7affe-e2ac-4bb0-acfe-428adce0b234",
   "metadata": {},
   "outputs": [
    {
     "name": "stdin",
     "output_type": "stream",
     "text": [
      "Enter the BMI Index: 34\n"
     ]
    },
    {
     "name": "stdout",
     "output_type": "stream",
     "text": [
      "Very Overweight\n"
     ]
    }
   ],
   "source": [
    "BMI=int(input(\"Enter the BMI Index:\")) \n",
    "if(BMI>30):\n",
    "    print(\"Very Overweight\")\n",
    "    "
   ]
  },
  {
   "cell_type": "code",
   "execution_count": null,
   "id": "292ce21d-12cf-4038-ab64-305d6cdad71a",
   "metadata": {},
   "outputs": [],
   "source": []
  }
 ],
 "metadata": {
  "kernelspec": {
   "display_name": "Python 3 (ipykernel)",
   "language": "python",
   "name": "python3"
  },
  "language_info": {
   "codemirror_mode": {
    "name": "ipython",
    "version": 3
   },
   "file_extension": ".py",
   "mimetype": "text/x-python",
   "name": "python",
   "nbconvert_exporter": "python",
   "pygments_lexer": "ipython3",
   "version": "3.12.4"
  }
 },
 "nbformat": 4,
 "nbformat_minor": 5
}
